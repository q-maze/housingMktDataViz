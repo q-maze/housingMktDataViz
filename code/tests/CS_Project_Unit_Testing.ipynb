{
  "nbformat": 4,
  "nbformat_minor": 0,
  "metadata": {
    "colab": {
      "name": "CS Project - Unit Testing.ipynb",
      "provenance": [],
      "authorship_tag": "ABX9TyNaVIDhu6Ss5YZdPoJZ4tSB",
      "include_colab_link": true
    },
    "kernelspec": {
      "name": "python3",
      "display_name": "Python 3"
    },
    "language_info": {
      "name": "python"
    }
  },
  "cells": [
    {
      "cell_type": "markdown",
      "metadata": {
        "id": "view-in-github",
        "colab_type": "text"
      },
      "source": [
        "<a href=\"https://colab.research.google.com/github/q-maze/location-affordability-tool/blob/main/CS_Project_Unit_Testing.ipynb\" target=\"_parent\"><img src=\"https://colab.research.google.com/assets/colab-badge.svg\" alt=\"Open In Colab\"/></a>"
      ]
    },
    {
      "cell_type": "code",
      "metadata": {
        "id": "wOJxjrnmJACZ"
      },
      "source": [
        "import unittest"
      ],
      "execution_count": 1,
      "outputs": []
    },
    {
      "cell_type": "code",
      "metadata": {
        "id": "JB4WZTByLo_Y"
      },
      "source": [
        "# class for describing the user input\n",
        "class LAIUser(object):\n",
        "\n",
        "    def __init__(self, state, income, living, work, household, transport):\n",
        "        self.state = state\n",
        "        self.income = income\n",
        "        self.living = living\n",
        "        self.work = work\n",
        "        self.household = household\n",
        "        self.transport = transport\n",
        "        self.classification = None\n",
        "\n",
        "# classifies a user as single, retired or dual income.        \n",
        "    def classify_user(self):\n",
        "        if self.work == 'no':\n",
        "            if self.household == 'single':\n",
        "                self.classification = 'single'\n",
        "            else:\n",
        "                self.classification = 'dual'\n",
        "        else:\n",
        "            self.classification = 'retired'"
      ],
      "execution_count": 2,
      "outputs": []
    },
    {
      "cell_type": "code",
      "metadata": {
        "id": "U-jd87aIJKvB"
      },
      "source": [
        "class userInputCase(unittest.TestCase):\n",
        "  \n",
        "  def test_income_zero(self):\n",
        "    \n",
        "    user1 = LAIUser('NJ', 0, 'renting', 'no', 'single', 'public transit')\n",
        "    \n",
        "    print(\"What is the user's income? \" + str(user1.income))\n",
        "    \n",
        "    self.assertEqual(user1.income, 0)\n",
        "\n",
        "  def test_state(self):\n",
        "\n",
        "    user1 = LAIUser('NJ', 0, 'renting', 'no', 'single', 'public transit')\n",
        "    \n",
        "    print(\"What is the user's state? \" + str(user1.state))\n",
        "    \n",
        "    self.assertEqual(user1.state, 'NJ')\n",
        "\n",
        "  def test_retired(self):\n",
        "  \n",
        "    user2 = LAIUser('VA', 60000, 'owning', 'yes', 'single', 'driving')\n",
        "    user2.classify_user()\n",
        "\n",
        "    print(\"What is the user's classification? \" + str(user2.classification))\n",
        "    \n",
        "    self.assertEqual(user2.classification, 'retired')\n",
        "\n",
        "  def test_retired2(self):\n",
        "  \n",
        "    user2 = LAIUser('VA', 60000, 'owning', 'yes', 'single', 'driving')\n",
        "    user2.classify_user()\n",
        "    \n",
        "    self.assertNotEqual(user2.classification, 'single')\n",
        "\n",
        "  def test_single(self):\n",
        "  \n",
        "    user3 = LAIUser('WV', 60000, 'renting', 'no', 'single', 'driving')\n",
        "    user3.classify_user()\n",
        "\n",
        "    print(\"What is the user's classification? \" + str(user3.classification))\n",
        "    \n",
        "    self.assertEqual(user3.classification, 'single')\n",
        "\n",
        "  def test_dual(self):\n",
        "  \n",
        "    user4 = LAIUser('CA', 120000, 'owning', 'no', 'dual', 'driving')\n",
        "    user4.classify_user()\n",
        "\n",
        "    print(\"What is the user's classification? \" + str(user4.classification))\n",
        "    \n",
        "    self.assertEqual(user4.classification, 'dual')"
      ],
      "execution_count": 3,
      "outputs": []
    },
    {
      "cell_type": "code",
      "metadata": {
        "colab": {
          "base_uri": "https://localhost:8080/"
        },
        "id": "qFVzR5acNKfm",
        "outputId": "c936753c-ee32-43d2-ad11-132b19e99516"
      },
      "source": [
        "# Run all unit tests\n",
        "if __name__ == '__main__':\n",
        "  unittest.main(argv=[''], verbosity=2, exit=False)    "
      ],
      "execution_count": 4,
      "outputs": [
        {
          "output_type": "stream",
          "text": [
            "test_dual (__main__.userInputCase) ... ok\n",
            "test_income_zero (__main__.userInputCase) ... ok\n",
            "test_retired (__main__.userInputCase) ... ok\n",
            "test_retired2 (__main__.userInputCase) ... ok\n",
            "test_single (__main__.userInputCase) ... ok\n",
            "test_state (__main__.userInputCase) ... "
          ],
          "name": "stderr"
        },
        {
          "output_type": "stream",
          "text": [
            "What is the user's classification? dual\n",
            "What is the user's income? 0\n",
            "What is the user's classification? retired\n",
            "What is the user's classification? single\n",
            "What is the user's state? NJ\n"
          ],
          "name": "stdout"
        },
        {
          "output_type": "stream",
          "text": [
            "ok\n",
            "\n",
            "----------------------------------------------------------------------\n",
            "Ran 6 tests in 0.014s\n",
            "\n",
            "OK\n"
          ],
          "name": "stderr"
        }
      ]
    }
  ]
}
